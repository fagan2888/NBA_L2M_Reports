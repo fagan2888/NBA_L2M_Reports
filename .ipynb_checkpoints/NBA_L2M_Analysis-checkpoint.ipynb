{
 "cells": [
  {
   "cell_type": "code",
   "execution_count": 23,
   "metadata": {
    "collapsed": false
   },
   "outputs": [],
   "source": [
    "import os\n",
    "import numpy as np\n",
    "import pandas as pd\n",
    "import scipy.stats as sc\n",
    "import plotly.tools as tls\n",
    "import plotly.plotly as py\n",
    "import plotly.graph_objs as go\n",
    "%run L2M_Functions.py\n",
    "%matplotlib inline"
   ]
  },
  {
   "cell_type": "code",
   "execution_count": 3,
   "metadata": {
    "collapsed": false
   },
   "outputs": [],
   "source": [
    "path = os.getenv('DATAPATH') + '/NBA_L2M_Reports/ReportData2015_2016/'\n",
    "\n",
    "NBA_cities = pd.DataFrame.from_csv('NBA_cities.csv')\n",
    "abbr_dict = NBA_cities[['Team', 'Abbr']].set_index('Team').to_dict()['Abbr']\n",
    "\n",
    "NBA_players_2015 = pd.DataFrame.from_csv('NBA_Players_2015.csv')\n",
    "NBA_players_2015['Player'] = NBA_players_2015['Player'].apply(lambda x: x.split('''\\\\''')[0])\n",
    "NBA_players_2015.set_index('Player', inplace=True)"
   ]
  },
  {
   "cell_type": "code",
   "execution_count": 4,
   "metadata": {
    "collapsed": false
   },
   "outputs": [
    {
     "name": "stdout",
     "output_type": "stream",
     "text": [
      "% 100.0\n"
     ]
    }
   ],
   "source": [
    "p_calls = Incorrect_Calls(path, len(os.listdir(path)))\n",
    "\n",
    "player_calls = pd.DataFrame(p_calls.items(), columns=['Player', 'Calls_Against'])\n",
    "player_calls.set_index('Player', inplace=True)"
   ]
  },
  {
   "cell_type": "code",
   "execution_count": 5,
   "metadata": {
    "collapsed": false
   },
   "outputs": [
    {
     "name": "stdout",
     "output_type": "stream",
     "text": [
      "% 100.0\n"
     ]
    }
   ],
   "source": [
    "reports_2015 = Team_Reports(path, len(os.listdir(path)))\n",
    "\n",
    "team_reports_2015 = pd.DataFrame(reports_2015.items(), columns=['Tm', 'L2M_Reports'])\n",
    "team_reports_2015.replace(abbr_dict, inplace=True)\n",
    "team_reports_2015.replace({'Suns': 'PHO', 'Magic': 'ORL'}, inplace=True)"
   ]
  },
  {
   "cell_type": "code",
   "execution_count": 6,
   "metadata": {
    "collapsed": false
   },
   "outputs": [],
   "source": [
    "NBA_player_calls = NBA_players_2015.join(player_calls, how='inner')\n",
    "NBA_player_calls.to_csv('NBA_2015_playercalls.csv')"
   ]
  },
  {
   "cell_type": "code",
   "execution_count": 7,
   "metadata": {
    "collapsed": false
   },
   "outputs": [],
   "source": [
    "team_calls = NBA_player_calls[['Tm', 'Calls_Against']].groupby('Tm').sum()\n",
    "team_results = team_calls.join(team_reports_2015.set_index('Tm'), how='inner')\n",
    "team_results['CA_PG'] = team_results['Calls_Against'] / team_results['L2M_Reports']\n",
    "team_results['ZScore'] = sc.mstats.zscore(team_results.CA_PG)\n",
    "team_results.sort_values('ZScore', ascending=False)\n",
    "team_results.reset_index(inplace=True)\n",
    "team_results.replace(NBA_cities[['Abbr']].reset_index().set_index('Abbr').to_dict()['Location'],\n",
    "                     inplace=True)\n",
    "team_results.set_index('Tm', inplace=True)\n",
    "team_results.to_csv('NBA_2015_teamcalls.csv')"
   ]
  },
  {
   "cell_type": "code",
   "execution_count": 8,
   "metadata": {
    "collapsed": false,
    "scrolled": false
   },
   "outputs": [
    {
     "data": {
      "text/html": [
       "<iframe id=\"igraph\" scrolling=\"no\" style=\"border:none;\" seamless=\"seamless\" src=\"https://plot.ly/~jvani/2.embed\" height=\"525px\" width=\"100%\"></iframe>"
      ],
      "text/plain": [
       "<plotly.tools.PlotlyDisplay object>"
      ]
     },
     "execution_count": 8,
     "metadata": {},
     "output_type": "execute_result"
    }
   ],
   "source": [
    "tls.set_credentials_file(username='jvani', api_key=os.getenv('PLOTLY_API'))\n",
    "\n",
    "r=['Reports: ' + str(L2Ms) for L2Ms in team_results.sort_index().L2M_Reports]\n",
    "cr=['Calls/Report: ' + str(CA.round(2)) for CA in team_results.sort_index().CA_PG]\n",
    "z=['Z Score: ' + str(Z.round(2)) for Z in team_results.sort_index().ZScore]\n",
    "\n",
    "annot = []\n",
    "for i in range(len(r)):\n",
    "    t = r[i] + '<br>' + cr[i] + '<br>' + z[i]\n",
    "    annot.append(t)\n",
    "\n",
    "NBA_CA = go.Bar(x=team_results.index.sort_values(),\n",
    "                y=team_results.sort_index().Calls_Against,\n",
    "                text=annot,\n",
    "                marker=dict(\n",
    "        color=['rgb(225, 58, 62)', 'rgb(0, 131, 72)', 'rgb(6, 25, 34)',\n",
    "               'rgb(29, 17, 96)', 'rgb(206, 17, 65)', 'rgb(134, 0, 56)',\n",
    "               'rgb(0, 125, 197)', 'rgb(77, 144, 205)', 'rgb(237, 23, 76)',\n",
    "               'rgb(253, 185, 39)', 'rgb(206, 17, 65)', 'rgb(255, 198, 51)',\n",
    "               'rgb(237, 23, 76)', 'rgb(253, 185, 39)', 'rgb(15, 88, 108)',\n",
    "               'rgb(152, 0, 46)', 'rgb(0, 71, 27)', 'rgb(0, 80, 131)',\n",
    "               'rgb(0, 43, 92)', 'rgb(0, 107, 182)', 'rgb(0, 125, 195)',\n",
    "               'rgb(0, 125, 197)', 'rgb(237, 23, 76)', 'rgb(229, 96, 32)',\n",
    "               'rgb(224, 58, 62)', 'rgb(114, 76, 159)', 'rgb(186, 195, 201)',\n",
    "               'rgb(206, 17, 65)', 'rgb(0, 43, 92)', 'rgb(0, 43, 92)']))\n",
    "\n",
    "data = [NBA_CA]\n",
    "layout = go.Layout(\n",
    "    title='NBA Last 2 Minute Report Calls Against',\n",
    "    yaxis=dict(title='Calls Against in L2M Reports'),\n",
    "    margin = dict(b = 110))\n",
    "\n",
    "fig = go.Figure(data=data, layout=layout)\n",
    "py.iplot(fig, filename='NBA_L2M_CallsAgainst')"
   ]
  },
  {
   "cell_type": "code",
   "execution_count": 25,
   "metadata": {
    "collapsed": false
   },
   "outputs": [
    {
     "data": {
      "text/html": [
       "<iframe id=\"igraph\" scrolling=\"no\" style=\"border:none;\" seamless=\"seamless\" src=\"https://plot.ly/~jvani/4.embed\" height=\"525px\" width=\"100%\"></iframe>"
      ],
      "text/plain": [
       "<plotly.tools.PlotlyDisplay object>"
      ]
     },
     "execution_count": 25,
     "metadata": {},
     "output_type": "execute_result"
    }
   ],
   "source": [
    "tls.set_credentials_file(username='jvani', api_key=os.getenv('PLOTLY_API'))\n",
    "\n",
    "c=['Total Calls: ' + str(calls) for calls in team_results.sort_index().Calls_Against]\n",
    "r=['Reports: ' + str(L2Ms) for L2Ms in team_results.sort_index().L2M_Reports]\n",
    "z=['Z Score: ' + str(Z.round(2)) for Z in team_results.sort_index().ZScore]\n",
    "\n",
    "annot = []\n",
    "for i in range(len(r)):\n",
    "    t = c[i] + '<br>' + r[i] + '<br>' + z[i]\n",
    "    annot.append(t)\n",
    "\n",
    "NBA_CA = go.Bar(x=team_results.index.sort_values(),\n",
    "                y=team_results.sort_index().CA_PG,\n",
    "                text=annot,\n",
    "                marker=dict(\n",
    "        color=['rgb(225, 58, 62)', 'rgb(0, 131, 72)', 'rgb(6, 25, 34)',\n",
    "               'rgb(29, 17, 96)', 'rgb(206, 17, 65)', 'rgb(134, 0, 56)',\n",
    "               'rgb(0, 125, 197)', 'rgb(77, 144, 205)', 'rgb(237, 23, 76)',\n",
    "               'rgb(253, 185, 39)', 'rgb(206, 17, 65)', 'rgb(255, 198, 51)',\n",
    "               'rgb(237, 23, 76)', 'rgb(253, 185, 39)', 'rgb(15, 88, 108)',\n",
    "               'rgb(152, 0, 46)', 'rgb(0, 71, 27)', 'rgb(0, 80, 131)',\n",
    "               'rgb(0, 43, 92)', 'rgb(0, 107, 182)', 'rgb(0, 125, 195)',\n",
    "               'rgb(0, 125, 197)', 'rgb(237, 23, 76)', 'rgb(229, 96, 32)',\n",
    "               'rgb(224, 58, 62)', 'rgb(114, 76, 159)', 'rgb(186, 195, 201)',\n",
    "               'rgb(206, 17, 65)', 'rgb(0, 43, 92)', 'rgb(0, 43, 92)']))\n",
    "\n",
    "data = [NBA_CA]\n",
    "layout = go.Layout(\n",
    "    title='NBA Last 2 Minute Report Calls Against Per Report',\n",
    "    yaxis=dict(title='Calls Against Per Report'),\n",
    "    margin = dict(b = 110))\n",
    "\n",
    "fig = go.Figure(data=data, layout=layout)\n",
    "py.iplot(fig, filename='NBA_L2M_CallsAgainstPerReport')"
   ]
  },
  {
   "cell_type": "code",
   "execution_count": null,
   "metadata": {
    "collapsed": true
   },
   "outputs": [],
   "source": []
  }
 ],
 "metadata": {
  "kernelspec": {
   "display_name": "Python 2",
   "language": "python",
   "name": "python2"
  },
  "language_info": {
   "codemirror_mode": {
    "name": "ipython",
    "version": 2
   },
   "file_extension": ".py",
   "mimetype": "text/x-python",
   "name": "python",
   "nbconvert_exporter": "python",
   "pygments_lexer": "ipython2",
   "version": "2.7.12"
  }
 },
 "nbformat": 4,
 "nbformat_minor": 1
}
